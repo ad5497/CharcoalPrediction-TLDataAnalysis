{
 "cells": [
  {
   "cell_type": "markdown",
   "id": "b5cf48d2-ff83-43cb-ab3c-8f556c230b30",
   "metadata": {},
   "source": [
    "# Imports"
   ]
  },
  {
   "cell_type": "code",
   "execution_count": 3,
   "id": "5b7e94f8-2488-4f66-9dba-d9cc3040e8a8",
   "metadata": {},
   "outputs": [],
   "source": [
    "import os\n",
    "\n",
    "from PIL import Image\n",
    "\n",
    "import torch\n",
    "from torch.utils.data import random_split, DataLoader\n",
    "from torch.optim import Adam\n",
    "\n",
    "import torch.nn as nn\n",
    "from torch.nn import CrossEntropyLoss\n",
    "\n",
    "from torchvision import datasets, transforms\n",
    "\n",
    "import timm"
   ]
  },
  {
   "cell_type": "markdown",
   "id": "e54bc174-f440-4b22-83c6-0dd68d5f9274",
   "metadata": {},
   "source": [
    "# Function Definitions"
   ]
  },
  {
   "cell_type": "code",
   "execution_count": 4,
   "id": "1a44d6db-885f-43ec-a838-fdf94c99095a",
   "metadata": {},
   "outputs": [],
   "source": [
    "def train_model(epochs, model, criterion, optimizer, train_loader, valid_loader, device, save_dir, save_every):\n",
    "    hist_train_loss = []\n",
    "    hist_valid_loss = []\n",
    "    hist_train_accs = []\n",
    "    hist_valid_accs = []\n",
    "\n",
    "    best_accuracy = 0.0\n",
    "\n",
    "    for epoch in range(epochs):\n",
    "        train_corr = 0\n",
    "        valid_corr = 0\n",
    "        batch_corr = 0\n",
    "\n",
    "        for i, (X_train, y_train) in enumerate(train_loader):\n",
    "            X_train, y_train = X_train.to(device), y_train.to(device)\n",
    "\n",
    "            train_pred = model(X_train)\n",
    "            train_loss = criterion(train_pred, y_train)\n",
    "\n",
    "            train_predicted = torch.max(train_pred.data, 1)[1]\n",
    "            batch_corr = (train_predicted == y_train).sum()\n",
    "            train_corr += batch_corr\n",
    "\n",
    "            optimizer.zero_grad()\n",
    "            train_loss.backward()\n",
    "            optimizer.step()\n",
    "\n",
    "            # checkpoint saving based on iterations\n",
    "            if (i + 1) % save_every == 0:\n",
    "                checkpoint_path = os.path.join(save_dir, f'epoch-{epoch}_iter-{i + 1}_checkpoint.pth')\n",
    "                torch.save({\n",
    "                    'epoch': epoch, \n",
    "                    'iteration': i + 1, \n",
    "                    'model_state_dict': mode.state_dict(), \n",
    "                    'optimizer_state_dict': optimizer.state_dict(), \n",
    "                    'loss': train_loss.item()\n",
    "                }, checkpoint_path)\n",
    "                print(f'Checkpoint saved at {checkpoint_path} after {i + 1} iterations of epoch {epoch}')\n",
    "\n",
    "        train_accuracy = train_corr.item() / len(train_loader.dataset)\n",
    "\n",
    "        hist_train_loss.append(train_loss.item())\n",
    "        hist_train_accs.append(train_accuracy)\n",
    "\n",
    "        with torch.no_grad():\n",
    "            for X_valid, y_valid in valid_loader:\n",
    "                X_valid, y_valid = X_valid.to(device), y_valid.to(device)\n",
    "\n",
    "                valid_pred = model(X_valid)\n",
    "\n",
    "                valid_predicted = torch.max(valid_pred.data, 1)[1]\n",
    "                valid_corr += (valid_predicted == y_valid).sum()\n",
    "\n",
    "        valid_accuracy = valid_corr.item() / len(valid_loader.dataset)\n",
    "        valid_loss = criterion(valid_pred, y_valid)\n",
    "\n",
    "        hist_valid_loss.append(valid_loss.item())\n",
    "        hist_valid_accs.append(valid_accuracy)\n",
    "\n",
    "        print(\n",
    "            f'[epoch: {epoch}]\\n', \n",
    "            f'- train loss: {train_loss.item():}, train accuracy: {train_accuracy}\\n',\n",
    "            f'- valid loss: {valid_loss.item()}, valid accuracy: {valid_accuracy}'\n",
    "        )\n",
    "\n",
    "        if valid_accuracy > best_accuracy:\n",
    "            best_accuracy = valid_accuracy\n",
    "            torch.save({\n",
    "                'epoch': epoch,\n",
    "                'model_state_dict': optimizer.state_dict(),\n",
    "                'optimizer_state_dict': optimizer.state_dict(),\n",
    "                'hist_train_loss': hist_train_loss, \n",
    "                'hist_train_accs': hist_train_accs,\n",
    "                'hist_valid_loss': hist_valid_loss, \n",
    "                'hist_valid_accs': hist_valid_accs\n",
    "            }, os.path.join(save_dir, f'best_model.pth'))\n",
    "            print(f'- New best model saves with accuracy {valid_accuracy:.2f}%')"
   ]
  },
  {
   "cell_type": "markdown",
   "id": "e9664c80-14d5-4f8a-ba83-6fe15152de24",
   "metadata": {},
   "source": [
    "# Main Excecution"
   ]
  },
  {
   "cell_type": "code",
   "execution_count": 5,
   "id": "2c21cc42-afb8-4102-a128-a5ab8128da07",
   "metadata": {},
   "outputs": [
    {
     "name": "stdout",
     "output_type": "stream",
     "text": [
      "Using device: cpu\n"
     ]
    }
   ],
   "source": [
    "device = torch.device('cuda' if torch.cuda.is_available() else 'cpu')\n",
    "torch.cuda.manual_seed(42) if device.type == 'cuda' else torch.manual_seed(42)\n",
    "print(f'Using device: {device}')"
   ]
  },
  {
   "cell_type": "code",
   "execution_count": 7,
   "id": "bb2bd23d-36c7-44e2-81b6-0415a7b54e91",
   "metadata": {},
   "outputs": [],
   "source": [
    "# PREPARING THE DATASET\n",
    "\n",
    "data_path = '/scratch/ad5497/data/ftp.ebi.ac.uk/pub/databases/IDR/idr0016-wawer-bioactivecompoundprofiling/2016-01-19-screens-bbbc022'\n",
    "\n",
    "transform = transforms.Compose([\n",
    "    transforms.Resize((224, 224)),\n",
    "    transforms.ToTensor()\n",
    "])\n",
    "\n",
    "dataset = datasets.ImageFolder(root=data_path, transform=transform)\n",
    "\n",
    "train_size = int(0.7 * len(dataset))\n",
    "valid_size = int(0.15 * len(dataset))\n",
    "test_size = len(dataset) - train_size - valid_size\n",
    "train_dataset, valid_dataset, test_dataset = random_split(dataset, [train_size, valid_size, test_size])\n",
    "\n",
    "train_loader = DataLoader(train_dataset, batch_size=256, shuffle=True)\n",
    "valid_loader = DataLoader(valid_dataset, batch_size=256, shuffle=False)\n",
    "test_loader = DataLoader(test_dataset, batch_size=256, shuffle=False)"
   ]
  },
  {
   "cell_type": "code",
   "execution_count": 8,
   "id": "cc57a696-25ed-41aa-99e9-a12a81fd2f5e",
   "metadata": {},
   "outputs": [
    {
     "ename": "KeyboardInterrupt",
     "evalue": "",
     "output_type": "error",
     "traceback": [
      "\u001b[0;31m---------------------------------------------------------------------------\u001b[0m",
      "\u001b[0;31mKeyboardInterrupt\u001b[0m                         Traceback (most recent call last)",
      "Cell \u001b[0;32mIn[8], line 15\u001b[0m\n\u001b[1;32m     12\u001b[0m save_dir \u001b[38;5;241m=\u001b[39m \u001b[38;5;124m'\u001b[39m\u001b[38;5;124mmodels\u001b[39m\u001b[38;5;124m'\u001b[39m\n\u001b[1;32m     13\u001b[0m os\u001b[38;5;241m.\u001b[39mmakedirs(save_dir, exist_ok\u001b[38;5;241m=\u001b[39m\u001b[38;5;28;01mTrue\u001b[39;00m)\n\u001b[0;32m---> 15\u001b[0m train_model(start, epochs, model, criterion, optimizer, train_loader, valid_loader, device, save_dir)\n",
      "Cell \u001b[0;32mIn[4], line 25\u001b[0m, in \u001b[0;36mtrain_model\u001b[0;34m(start, epochs, model, criterion, optimizer, train_loader, valid_loader, device, save_dir)\u001b[0m\n\u001b[1;32m     22\u001b[0m train_corr \u001b[38;5;241m+\u001b[39m\u001b[38;5;241m=\u001b[39m batch_corr\n\u001b[1;32m     24\u001b[0m optimizer\u001b[38;5;241m.\u001b[39mzero_grad()\n\u001b[0;32m---> 25\u001b[0m train_loss\u001b[38;5;241m.\u001b[39mbackward()\n\u001b[1;32m     26\u001b[0m optimizer\u001b[38;5;241m.\u001b[39mstep()\n\u001b[1;32m     28\u001b[0m \u001b[38;5;66;03m# checkpoint saving based on iterations\u001b[39;00m\n",
      "File \u001b[0;32m/opt/homebrew/Caskroom/miniconda/base/envs/ds301/lib/python3.12/site-packages/torch/_tensor.py:522\u001b[0m, in \u001b[0;36mTensor.backward\u001b[0;34m(self, gradient, retain_graph, create_graph, inputs)\u001b[0m\n\u001b[1;32m    512\u001b[0m \u001b[38;5;28;01mif\u001b[39;00m has_torch_function_unary(\u001b[38;5;28mself\u001b[39m):\n\u001b[1;32m    513\u001b[0m     \u001b[38;5;28;01mreturn\u001b[39;00m handle_torch_function(\n\u001b[1;32m    514\u001b[0m         Tensor\u001b[38;5;241m.\u001b[39mbackward,\n\u001b[1;32m    515\u001b[0m         (\u001b[38;5;28mself\u001b[39m,),\n\u001b[0;32m   (...)\u001b[0m\n\u001b[1;32m    520\u001b[0m         inputs\u001b[38;5;241m=\u001b[39minputs,\n\u001b[1;32m    521\u001b[0m     )\n\u001b[0;32m--> 522\u001b[0m torch\u001b[38;5;241m.\u001b[39mautograd\u001b[38;5;241m.\u001b[39mbackward(\n\u001b[1;32m    523\u001b[0m     \u001b[38;5;28mself\u001b[39m, gradient, retain_graph, create_graph, inputs\u001b[38;5;241m=\u001b[39minputs\n\u001b[1;32m    524\u001b[0m )\n",
      "File \u001b[0;32m/opt/homebrew/Caskroom/miniconda/base/envs/ds301/lib/python3.12/site-packages/torch/autograd/__init__.py:266\u001b[0m, in \u001b[0;36mbackward\u001b[0;34m(tensors, grad_tensors, retain_graph, create_graph, grad_variables, inputs)\u001b[0m\n\u001b[1;32m    261\u001b[0m     retain_graph \u001b[38;5;241m=\u001b[39m create_graph\n\u001b[1;32m    263\u001b[0m \u001b[38;5;66;03m# The reason we repeat the same comment below is that\u001b[39;00m\n\u001b[1;32m    264\u001b[0m \u001b[38;5;66;03m# some Python versions print out the first line of a multi-line function\u001b[39;00m\n\u001b[1;32m    265\u001b[0m \u001b[38;5;66;03m# calls in the traceback and some print out the last line\u001b[39;00m\n\u001b[0;32m--> 266\u001b[0m Variable\u001b[38;5;241m.\u001b[39m_execution_engine\u001b[38;5;241m.\u001b[39mrun_backward(  \u001b[38;5;66;03m# Calls into the C++ engine to run the backward pass\u001b[39;00m\n\u001b[1;32m    267\u001b[0m     tensors,\n\u001b[1;32m    268\u001b[0m     grad_tensors_,\n\u001b[1;32m    269\u001b[0m     retain_graph,\n\u001b[1;32m    270\u001b[0m     create_graph,\n\u001b[1;32m    271\u001b[0m     inputs,\n\u001b[1;32m    272\u001b[0m     allow_unreachable\u001b[38;5;241m=\u001b[39m\u001b[38;5;28;01mTrue\u001b[39;00m,\n\u001b[1;32m    273\u001b[0m     accumulate_grad\u001b[38;5;241m=\u001b[39m\u001b[38;5;28;01mTrue\u001b[39;00m,\n\u001b[1;32m    274\u001b[0m )\n",
      "\u001b[0;31mKeyboardInterrupt\u001b[0m: "
     ]
    }
   ],
   "source": [
    "# CREATING AND TRAINING THE ViT MODEL\n",
    "\n",
    "model = timm.create_model('vit_base_patch16_224', pretrained=False, num_classes=len(dataset.classes))\n",
    "model = model.to(device)\n",
    "\n",
    "start = 0\n",
    "epochs = 2\n",
    "\n",
    "optimizer = Adam(model.parameters(), lr=1e-4)\n",
    "criterion = CrossEntropyLoss()\n",
    "\n",
    "save_dir = 'models'\n",
    "os.makedirs(save_dir, exist_ok=True)\n",
    "\n",
    "train_model(start, epochs, model, criterion, optimizer, train_loader, valid_loader, device, save_dir)"
   ]
  }
 ],
 "metadata": {
  "kernelspec": {
   "display_name": "ds301",
   "language": "python",
   "name": "ds301"
  },
  "language_info": {
   "codemirror_mode": {
    "name": "ipython",
    "version": 3
   },
   "file_extension": ".py",
   "mimetype": "text/x-python",
   "name": "python",
   "nbconvert_exporter": "python",
   "pygments_lexer": "ipython3",
   "version": "3.12.2"
  }
 },
 "nbformat": 4,
 "nbformat_minor": 5
}
