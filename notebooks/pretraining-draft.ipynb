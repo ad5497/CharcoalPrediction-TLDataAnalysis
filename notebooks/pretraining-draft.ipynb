{
 "cells": [
  {
   "cell_type": "markdown",
   "id": "b5cf48d2-ff83-43cb-ab3c-8f556c230b30",
   "metadata": {},
   "source": [
    "# Imports"
   ]
  },
  {
   "cell_type": "code",
   "execution_count": 4,
   "id": "5b7e94f8-2488-4f66-9dba-d9cc3040e8a8",
   "metadata": {},
   "outputs": [],
   "source": [
    "import os\n",
    "\n",
    "import timm\n",
    "\n",
    "from PIL import Image\n",
    "\n",
    "import torch\n",
    "from torch.utils.data import random_split, DataLoader\n",
    "from torch.optim import Adam\n",
    "\n",
    "import torch.nn as nn\n",
    "from torch.nn import CrossEntropyLoss\n",
    "\n",
    "from torchvision import datasets, transforms"
   ]
  },
  {
   "cell_type": "markdown",
   "id": "e54bc174-f440-4b22-83c6-0dd68d5f9274",
   "metadata": {},
   "source": [
    "# Function Definitions"
   ]
  },
  {
   "cell_type": "code",
   "execution_count": 19,
   "id": "1a44d6db-885f-43ec-a838-fdf94c99095a",
   "metadata": {},
   "outputs": [],
   "source": [
    "def train_epoch(model, dataloader, optimizer, criterion, device):\n",
    "    model.train()\n",
    "    total_loss, total_correct = 0, 0\n",
    "    for inputs, labels in dataloader:\n",
    "        inputs, labels = inputs.to(device), labels.to(device)\n",
    "\n",
    "        optimizer.zero_grad()\n",
    "        outputs = model(inputs)\n",
    "        loss = criterion(outputs, labels)\n",
    "        loss.backward()\n",
    "        optimizer.step()\n",
    "\n",
    "        total_loss += loss.item()\n",
    "        total_correct += (outputs.argmax(1) == labels).type(torch.float).sum().item()\n",
    "\n",
    "    return total_loss / len(dataloader), total_correct / len(dataloader.dataset)\n",
    "\n",
    "def evaluate(model, dataloader, criterion, device):\n",
    "    model.eval()\n",
    "    total_loss, total_correct = 0, 0\n",
    "    with torch.no_grad():\n",
    "        for inputs, labels in dataloader:\n",
    "            inputs, labels = inputs.to(device), labels.to(device)\n",
    "            outputs = model(inputs)\n",
    "            loss = criterion(outputs, labels)\n",
    "            total_loss += loss.itm()\n",
    "            total_correct += (outputs.argmax(1) == labels).type(torch.float).sum().item()\n",
    "\n",
    "    return total_loss / len(dataloader)\n",
    "\n",
    "def train_model(start, epochs, model, criterion, optimizer, train_loader, valid_loader, device, save_dir):\n",
    "    hist_train_loss = []\n",
    "    hist_valid_loss = []\n",
    "    hist_train_accs = []\n",
    "    hist_valid_accs = []\n",
    "\n",
    "    for epoch in range(start, start + epochs):\n",
    "        train_corr = 0\n",
    "        valid_corr = 0\n",
    "        batch_corr = 0\n",
    "\n",
    "        for X_train, y_train in train_loader:\n",
    "            X_train, y_train = X_train.to(device), y_train.to(device)\n",
    "\n",
    "            train_pred = model(X_train)\n",
    "            train_loss = criterion(train_pred, y_train)\n",
    "\n",
    "            train_predicted = torch.max(train_pred.data, 1)[1]\n",
    "            batch_corr = (train_predicted == y_train).sum()\n",
    "            train_corr += batch_corr\n",
    "\n",
    "            optimizer.zero_grad()\n",
    "            train_loss.backward()\n",
    "            optimizer.step()\n",
    "\n",
    "        train_accuracy = train_corr.item() / len(train_loader.dataset)\n",
    "\n",
    "        hist_train_loss.append(train_loss)\n",
    "        hist_train_accs.append(train_accuracy)\n",
    "\n",
    "        with torch.no_grad():\n",
    "            for X_valid, y_valid in valid_loader:\n",
    "                X_valid, y_valid = X_valid.to(device), y_valid.to(device)\n",
    "\n",
    "                valid_pred = model(X_valid)\n",
    "\n",
    "                valid_predicted = torch.max(valid_pred.data, 1)[1]\n",
    "                valid_corr += (valid_predicted == y_valid).sum()\n",
    "\n",
    "        valid_accuracy = valid_corr.item() / len(valid_loader.dataset)\n",
    "        valid_loss = criterion(valid_pred, y_valid)\n",
    "\n",
    "        hist_valid_loss.append(valid_loss)\n",
    "        hist_valid_accs.append(valid_accuracy)\n",
    "\n",
    "        print(\n",
    "            f'[epoch: {epoch}]\\n', \n",
    "            f'- train loss: {train_loss.item():}, train accuracy: {train_accuracy}\\n',\n",
    "            f'- valid loss: {valid_loss.item()}, valid accuracy: {valid_accuracy}'\n",
    "        )\n",
    "\n",
    "        torch.save({\n",
    "            'epoch': epoch,\n",
    "            'model_state_dict': model.state_dict(),\n",
    "            'optimizer_state_dict': optimizer.state_dict(),\n",
    "            'hist_train_loss': hist_train_loss, \n",
    "            'hist_train_accs': hist_train_accs,\n",
    "            'hist_valid_loss': hist_valid_loss, \n",
    "            'hist_valid_accs': hist_valid_accs\n",
    "        }, os.path.join(save_dir, f'epoch_{epoch}_checkpoint.pth'))"
   ]
  },
  {
   "cell_type": "markdown",
   "id": "e9664c80-14d5-4f8a-ba83-6fe15152de24",
   "metadata": {},
   "source": [
    "# Main Excecution"
   ]
  },
  {
   "cell_type": "code",
   "execution_count": 25,
   "id": "2c21cc42-afb8-4102-a128-a5ab8128da07",
   "metadata": {},
   "outputs": [
    {
     "name": "stdout",
     "output_type": "stream",
     "text": [
      "Using device: cpu\n"
     ]
    }
   ],
   "source": [
    "device = torch.device('cuda' if torch.cuda.is_available() else 'cpu')\n",
    "torch.cuda.manual_seed(42) if device.type == 'cuda' else torch.manual_seed(42)\n",
    "print(f'Using device: {device}')"
   ]
  },
  {
   "cell_type": "code",
   "execution_count": 20,
   "id": "bb2bd23d-36c7-44e2-81b6-0415a7b54e91",
   "metadata": {},
   "outputs": [],
   "source": [
    "# PREPARING THE DATASET\n",
    "\n",
    "data_path = 'data/Modern images for Abhinav'\n",
    "\n",
    "transform = transforms.Compose([\n",
    "    transforms.Resize((224, 224)),\n",
    "    transforms.ToTensor()\n",
    "])\n",
    "\n",
    "dataset = datasets.ImageFolder(root=data_path, transform=transform)\n",
    "\n",
    "train_size = int(0.7 * len(dataset))\n",
    "valid_size = int(0.15 * len(dataset))\n",
    "test_size = len(dataset) - train_size - valid_size\n",
    "train_dataset, valid_dataset, test_dataset = random_split(dataset, [train_size, valid_size, test_size])\n",
    "\n",
    "train_loader = DataLoader(train_dataset, batch_size=256, shuffle=True)\n",
    "valid_loader = DataLoader(valid_dataset, batch_size=256, shuffle=False)\n",
    "test_loader = DataLoader(test_dataset, batch_size=256, shuffle=False)"
   ]
  },
  {
   "cell_type": "code",
   "execution_count": 21,
   "id": "cc57a696-25ed-41aa-99e9-a12a81fd2f5e",
   "metadata": {},
   "outputs": [
    {
     "name": "stdout",
     "output_type": "stream",
     "text": [
      "[epoch: 0]\n",
      " - train loss: 1.9107078313827515, train accuracy: 0.17801047120418848\n",
      " - valid loss: 3.81400990486145, valid accuracy: 0.525\n",
      "[epoch: 1]\n",
      " - train loss: 4.377239227294922, train accuracy: 0.4293193717277487\n",
      " - valid loss: 4.2843732833862305, valid accuracy: 0.125\n"
     ]
    }
   ],
   "source": [
    "# CREATING AND TRAINING THE ViT MODEL\n",
    "\n",
    "model = timm.create_model('vit_base_patch16_224', pretrained=False, num_classes=len(dataset.classes))\n",
    "model = model.to(device)\n",
    "\n",
    "start = 0\n",
    "epochs = 2\n",
    "\n",
    "optimizer = Adam(model.parameters(), lr=1e-4)\n",
    "criterion = CrossEntropyLoss()\n",
    "\n",
    "save_dir = 'models'\n",
    "if not os.path.exists(save_dir):\n",
    "    os.makedirs(save_dir)\n",
    "\n",
    "train_model(start, epochs, model, criterion, optimizer, train_loader, valid_loader, device, save_dir)"
   ]
  }
 ],
 "metadata": {
  "kernelspec": {
   "display_name": "ds301",
   "language": "python",
   "name": "ds301"
  },
  "language_info": {
   "codemirror_mode": {
    "name": "ipython",
    "version": 3
   },
   "file_extension": ".py",
   "mimetype": "text/x-python",
   "name": "python",
   "nbconvert_exporter": "python",
   "pygments_lexer": "ipython3",
   "version": "3.12.2"
  }
 },
 "nbformat": 4,
 "nbformat_minor": 5
}
