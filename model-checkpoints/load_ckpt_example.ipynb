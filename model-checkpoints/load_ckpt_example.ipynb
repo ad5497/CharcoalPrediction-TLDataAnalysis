{
 "cells": [
  {
   "cell_type": "markdown",
   "id": "38bdccdf-8039-4b3c-a7e8-b1d5ac0d90ba",
   "metadata": {},
   "source": [
    "### Load Model `state_dict` Example"
   ]
  },
  {
   "cell_type": "code",
   "execution_count": 1,
   "id": "4bd40621-c9bd-4537-8d5c-e0810896775b",
   "metadata": {},
   "outputs": [],
   "source": [
    "import timm\n",
    "import torch"
   ]
  },
  {
   "cell_type": "code",
   "execution_count": 2,
   "id": "23490398-a9bf-4168-b7f1-08a75174a6e4",
   "metadata": {},
   "outputs": [],
   "source": [
    "device = torch.device(\"cuda\" if torch.cuda.is_available() else \"cpu\")\n",
    "\n",
    "# Recreate the architecture of the pretrained model\n",
    "model = timm.create_model('vit_base_patch16_224', pretrained=False, num_classes=5)\n",
    "\n",
    "# TODO: UPDATE CHECKPOINT PATH\n",
    "ckpt_path = '../model-checkpoints/best_model-subset_0.2-epoch_16-acc_0.8854.pth'\n",
    "checkpoint = torch.load(ckpt_path, map_location=device) # cuda needs remap to cpu"
   ]
  },
  {
   "cell_type": "code",
   "execution_count": 3,
   "id": "61cb2f5d-7ab8-451b-9e97-26835b05b73c",
   "metadata": {},
   "outputs": [
    {
     "data": {
      "text/plain": [
       "['epoch',\n",
       " 'model_state_dict',\n",
       " 'optimizer_state_dict',\n",
       " 'hist_train_loss',\n",
       " 'hist_train_accs',\n",
       " 'hist_valid_loss',\n",
       " 'hist_valid_accs']"
      ]
     },
     "execution_count": 3,
     "metadata": {},
     "output_type": "execute_result"
    }
   ],
   "source": [
    "# The following torch objects were saved in the checkpoint\n",
    "# and can be indexed to retrieve from the checkpoint dict\n",
    "[key for key in checkpoint.keys()]"
   ]
  },
  {
   "cell_type": "code",
   "execution_count": 4,
   "id": "844534ba-d84a-4536-a555-ccca03f19c6b",
   "metadata": {},
   "outputs": [
    {
     "data": {
      "text/plain": [
       "<All keys matched successfully>"
      ]
     },
     "execution_count": 4,
     "metadata": {},
     "output_type": "execute_result"
    }
   ],
   "source": [
    "# Load state_dict\n",
    "model.load_state_dict(checkpoint['model_state_dict'])"
   ]
  },
  {
   "cell_type": "markdown",
   "id": "3d3481c8-705d-4cb5-a183-0c89a257315f",
   "metadata": {},
   "source": [
    "The pretrained model should be usable from here.\n",
    "\n",
    "If we want to continue pretraining for more epochs, the optimizer save state can be loaded into and Adam optimizer from `torch.optim`. The training and validation history for loss and accuracy was also saved in the checkpoint model and can be plotted."
   ]
  }
 ],
 "metadata": {
  "kernelspec": {
   "display_name": "ds301",
   "language": "python",
   "name": "ds301"
  },
  "language_info": {
   "codemirror_mode": {
    "name": "ipython",
    "version": 3
   },
   "file_extension": ".py",
   "mimetype": "text/x-python",
   "name": "python",
   "nbconvert_exporter": "python",
   "pygments_lexer": "ipython3",
   "version": "3.12.2"
  }
 },
 "nbformat": 4,
 "nbformat_minor": 5
}
